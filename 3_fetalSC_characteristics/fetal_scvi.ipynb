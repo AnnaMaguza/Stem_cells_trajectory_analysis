{
 "cells": [
  {
   "cell_type": "markdown",
   "metadata": {},
   "source": [
    "## Notebook for exploratory analysis of Fetal Gut Stem cells scRNA-Seq data using `scVI` \n",
    "\n",
    "- **Developed by:** Anna Maguza\n",
    "- **Place:** Wuerzburg Institute for System Immunology\n",
    "- **Date:** 16th November 2023"
   ]
  },
  {
   "cell_type": "markdown",
   "metadata": {},
   "source": [
    "### Load required modules"
   ]
  },
  {
   "cell_type": "code",
   "execution_count": 1,
   "metadata": {},
   "outputs": [
    {
     "name": "stderr",
     "output_type": "stream",
     "text": [
      "/home/amaguza/miniforge3/envs/scvi_env/lib/python3.9/site-packages/scvi/_settings.py:63: UserWarning: Since v1.0.0, scvi-tools no longer uses a random seed by default. Run `scvi.settings.seed = 0` to reproduce results from previous versions.\n",
      "  self.seed = seed\n",
      "/home/amaguza/miniforge3/envs/scvi_env/lib/python3.9/site-packages/scvi/_settings.py:70: UserWarning: Setting `dl_pin_memory_gpu_training` is deprecated in v1.0 and will be removed in v1.1. Please pass in `pin_memory` to the data loaders instead.\n",
      "  self.dl_pin_memory_gpu_training = (\n",
      "/home/amaguza/miniforge3/envs/scvi_env/lib/python3.9/site-packages/tqdm/auto.py:21: TqdmWarning: IProgress not found. Please update jupyter and ipywidgets. See https://ipywidgets.readthedocs.io/en/stable/user_install.html\n",
      "  from .autonotebook import tqdm as notebook_tqdm\n"
     ]
    }
   ],
   "source": [
    "import sys\n",
    "import scvi\n",
    "import torch\n",
    "import anndata\n",
    "import matplotlib\n",
    "import matplotlib.pyplot as plt\n",
    "from matplotlib.colors import LinearSegmentedColormap\n",
    "import seaborn as sns\n",
    "\n",
    "import numpy as np\n",
    "import scipy as sp\n",
    "import pandas as pd\n",
    "import scanpy as sc\n",
    "import numpy.random as random\n",
    "\n",
    "\n",
    "from umap import UMAP\n",
    "import warnings; warnings.simplefilter('ignore')\n",
    "\n",
    "import matplotlib.pyplot as plt"
   ]
  },
  {
   "cell_type": "code",
   "execution_count": 2,
   "metadata": {},
   "outputs": [],
   "source": [
    "%matplotlib inline\n",
    "matplotlib.rcParams[\"pdf.fonttype\"] = 42\n",
    "matplotlib.rcParams[\"ps.fonttype\"] = 42"
   ]
  },
  {
   "cell_type": "code",
   "execution_count": 3,
   "metadata": {},
   "outputs": [
    {
     "data": {
      "text/plain": [
       "True"
      ]
     },
     "execution_count": 3,
     "metadata": {},
     "output_type": "execute_result"
    }
   ],
   "source": [
    "torch.cuda.is_available()"
   ]
  },
  {
   "cell_type": "code",
   "execution_count": 4,
   "metadata": {},
   "outputs": [],
   "source": [
    "torch.set_float32_matmul_precision('medium')"
   ]
  },
  {
   "cell_type": "code",
   "execution_count": 5,
   "metadata": {},
   "outputs": [
    {
     "name": "stdout",
     "output_type": "stream",
     "text": [
      "-----\n",
      "anndata     0.10.3\n",
      "scanpy      1.9.6\n",
      "-----\n",
      "PIL                         10.1.0\n",
      "absl                        NA\n",
      "aiohttp                     3.8.6\n",
      "aiosignal                   1.3.1\n",
      "annotated_types             0.6.0\n",
      "anyio                       NA\n",
      "arrow                       1.3.0\n",
      "asttokens                   NA\n",
      "async_timeout               4.0.3\n",
      "attr                        23.1.0\n",
      "attrs                       23.1.0\n",
      "babel                       2.13.1\n",
      "backoff                     2.2.1\n",
      "brotli                      1.1.0\n",
      "bs4                         4.12.2\n",
      "certifi                     2023.07.22\n",
      "cffi                        1.16.0\n",
      "charset_normalizer          3.3.2\n",
      "chex                        0.1.7\n",
      "click                       8.1.7\n",
      "colorama                    0.4.6\n",
      "comm                        0.1.4\n",
      "contextlib2                 NA\n",
      "croniter                    NA\n",
      "cycler                      0.12.1\n",
      "cython_runtime              NA\n",
      "dateutil                    2.8.2\n",
      "debugpy                     1.8.0\n",
      "decorator                   5.1.1\n",
      "deepdiff                    6.6.1\n",
      "defusedxml                  0.7.1\n",
      "docrep                      0.3.2\n",
      "etils                       1.5.2\n",
      "exceptiongroup              1.1.3\n",
      "executing                   2.0.1\n",
      "fastapi                     0.104.1\n",
      "fastjsonschema              NA\n",
      "flax                        0.7.5\n",
      "fqdn                        NA\n",
      "frozenlist                  1.4.0\n",
      "fsspec                      2023.10.0\n",
      "get_annotations             NA\n",
      "h5py                        3.10.0\n",
      "idna                        3.4\n",
      "importlib_resources         NA\n",
      "ipykernel                   6.26.0\n",
      "isoduration                 NA\n",
      "jax                         0.4.20\n",
      "jaxlib                      0.4.20\n",
      "jedi                        0.19.1\n",
      "jinja2                      3.1.2\n",
      "joblib                      1.3.2\n",
      "json5                       NA\n",
      "jsonpointer                 2.4\n",
      "jsonschema                  4.19.2\n",
      "jsonschema_specifications   NA\n",
      "jupyter_events              0.8.0\n",
      "jupyter_server              2.9.1\n",
      "jupyterlab_server           2.25.0\n",
      "kiwisolver                  1.4.5\n",
      "lightning                   2.0.9.post0\n",
      "lightning_cloud             0.5.50\n",
      "lightning_utilities         0.9.0\n",
      "llvmlite                    0.40.1\n",
      "markupsafe                  2.1.3\n",
      "matplotlib                  3.8.1\n",
      "matplotlib_inline           0.1.6\n",
      "ml_collections              NA\n",
      "ml_dtypes                   0.3.1\n",
      "mpl_toolkits                NA\n",
      "mpmath                      1.3.0\n",
      "msgpack                     1.0.7\n",
      "mudata                      0.2.3\n",
      "multidict                   6.0.4\n",
      "multipart                   0.0.6\n",
      "multipledispatch            0.6.0\n",
      "natsort                     8.4.0\n",
      "nbformat                    5.9.2\n",
      "numba                       0.57.1\n",
      "numpy                       1.24.4\n",
      "numpyro                     0.13.2\n",
      "opt_einsum                  v3.3.0\n",
      "optax                       0.1.7\n",
      "ordered_set                 4.1.0\n",
      "overrides                   NA\n",
      "packaging                   23.2\n",
      "pandas                      2.1.1\n",
      "parso                       0.8.3\n",
      "patsy                       0.5.3\n",
      "pexpect                     4.8.0\n",
      "pickleshare                 0.7.5\n",
      "pkg_resources               NA\n",
      "platformdirs                3.11.0\n",
      "prometheus_client           NA\n",
      "prompt_toolkit              3.0.39\n",
      "psutil                      5.9.5\n",
      "ptyprocess                  0.7.0\n",
      "pure_eval                   0.2.2\n",
      "pycparser                   2.21\n",
      "pydantic                    2.1.1\n",
      "pydantic_core               2.4.0\n",
      "pydev_ipython               NA\n",
      "pydevconsole                NA\n",
      "pydevd                      2.9.5\n",
      "pydevd_file_utils           NA\n",
      "pydevd_plugins              NA\n",
      "pydevd_tracing              NA\n",
      "pygments                    2.16.1\n",
      "pynndescent                 0.5.10\n",
      "pyparsing                   3.1.1\n",
      "pyro                        1.8.6\n",
      "pythonjsonlogger            NA\n",
      "pytz                        2023.3.post1\n",
      "referencing                 NA\n",
      "requests                    2.31.0\n",
      "rfc3339_validator           0.1.4\n",
      "rfc3986_validator           0.1.1\n",
      "rich                        NA\n",
      "rpds                        NA\n",
      "scipy                       1.11.3\n",
      "scvi                        1.0.4\n",
      "seaborn                     0.12.2\n",
      "send2trash                  NA\n",
      "session_info                1.0.0\n",
      "setuptools                  68.2.2\n",
      "six                         1.16.0\n",
      "sklearn                     1.3.2\n",
      "sniffio                     1.3.0\n",
      "socks                       1.7.1\n",
      "soupsieve                   2.5\n",
      "sparse                      0.14.0\n",
      "stack_data                  0.6.2\n",
      "starlette                   0.27.0\n",
      "statsmodels                 0.14.0\n",
      "sympy                       1.12\n",
      "threadpoolctl               3.2.0\n",
      "tomli                       2.0.1\n",
      "toolz                       0.12.0\n",
      "torch                       2.1.0+cu121\n",
      "torchgen                    NA\n",
      "torchmetrics                1.2.0\n",
      "tornado                     6.3.3\n",
      "tqdm                        4.66.1\n",
      "traitlets                   5.13.0\n",
      "tree                        0.1.8\n",
      "typing_extensions           NA\n",
      "umap                        0.5.4\n",
      "uri_template                NA\n",
      "urllib3                     2.0.7\n",
      "uvicorn                     0.24.0.post1\n",
      "wcwidth                     0.2.9\n",
      "webcolors                   1.13\n",
      "websocket                   1.6.4\n",
      "websockets                  12.0\n",
      "xarray                      2023.10.1\n",
      "yaml                        6.0.1\n",
      "yarl                        1.9.2\n",
      "zipp                        NA\n",
      "zmq                         25.1.1\n",
      "zoneinfo                    NA\n",
      "-----\n",
      "IPython             8.17.2\n",
      "jupyter_client      8.5.0\n",
      "jupyter_core        5.5.0\n",
      "jupyterlab          4.0.8\n",
      "notebook            7.0.6\n",
      "-----\n",
      "Python 3.9.18 | packaged by conda-forge | (main, Aug 30 2023, 03:49:32) [GCC 12.3.0]\n",
      "Linux-6.5.10-200.fc38.x86_64-x86_64-with-glibc2.37\n",
      "-----\n",
      "Session information updated at 2023-11-16 15:45\n"
     ]
    }
   ],
   "source": [
    "sc.settings.verbosity = 3\n",
    "sc.logging.print_versions()\n",
    "sc.settings.set_figure_params(dpi = 180, color_map = 'magma_r', dpi_save = 300, vector_friendly = True, format = 'svg')"
   ]
  },
  {
   "cell_type": "code",
   "execution_count": 6,
   "metadata": {},
   "outputs": [],
   "source": [
    "def X_is_raw(adata):\n",
    "    return np.array_equal(adata.X.sum(axis=0).astype(int), adata.X.sum(axis=0))"
   ]
  },
  {
   "cell_type": "markdown",
   "metadata": {},
   "source": [
    "### Read in datasets"
   ]
  },
  {
   "cell_type": "markdown",
   "metadata": {},
   "source": [
    "- Read in formatted object"
   ]
  },
  {
   "cell_type": "code",
   "execution_count": 9,
   "metadata": {},
   "outputs": [
    {
     "data": {
      "text/plain": [
       "AnnData object with n_obs × n_vars = 231646 × 26442\n",
       "    obs: 'Sample_ID', 'Cell Type', 'Study_name', 'Donor_ID', 'Diagnosis', 'Age', 'Region code', 'Fraction', 'Sex', 'Library_Preparation_Protocol', 'batch', 'Age_group', 'Location', 'Cell States', 'Cell States GCA', 'Chem', 'Layer', 'Cell States Kong', 'dataset', 'n_genes_by_counts', 'total_counts', 'total_counts_mito', 'pct_counts_mito', 'total_counts_ribo', 'pct_counts_ribo', 'Cell_ID', '_scvi_batch', '_scvi_labels'\n",
       "    var: 'feature_types-0-0-0', 'gene_name-1-0-0', 'gene_id-0-0', 'GENE-1-0'"
      ]
     },
     "execution_count": 9,
     "metadata": {},
     "output_type": "execute_result"
    }
   ],
   "source": [
    "adata = sc.read_h5ad('/home/amaguza/data/Processed_data/Gut_data/Stem_cells/Fetal_cells.h5ad')\n",
    "adata"
   ]
  },
  {
   "cell_type": "code",
   "execution_count": 10,
   "metadata": {},
   "outputs": [],
   "source": [
    "# Save raw data\n",
    "adata.raw = adata"
   ]
  },
  {
   "cell_type": "code",
   "execution_count": 11,
   "metadata": {},
   "outputs": [
    {
     "name": "stdout",
     "output_type": "stream",
     "text": [
      "filtered out 378 genes that are detected in less than 1 counts\n",
      "filtered out 619 genes that are detected in less than 3 cells\n"
     ]
    }
   ],
   "source": [
    "sc.pp.filter_genes(adata, min_counts = 1)\n",
    "sc.pp.filter_genes(adata, min_cells = 3)\n",
    "\n",
    "sc.pp.filter_cells(adata, min_genes = 50)\n",
    "sc.pp.filter_cells(adata, min_counts = 3)"
   ]
  },
  {
   "cell_type": "code",
   "execution_count": 12,
   "metadata": {},
   "outputs": [
    {
     "data": {
      "text/plain": [
       "True"
      ]
     },
     "execution_count": 12,
     "metadata": {},
     "output_type": "execute_result"
    }
   ],
   "source": [
    "X_is_raw(adata)"
   ]
  },
  {
   "cell_type": "markdown",
   "metadata": {},
   "source": [
    "### Calculate HVGs"
   ]
  },
  {
   "cell_type": "code",
   "execution_count": 13,
   "metadata": {},
   "outputs": [],
   "source": [
    "adata.layers['counts'] = adata.X.copy()"
   ]
  },
  {
   "cell_type": "code",
   "execution_count": 16,
   "metadata": {},
   "outputs": [
    {
     "data": {
      "text/plain": [
       "Fraction\n",
       "SC           151069\n",
       "SC-EPCAMP     54327\n",
       "SC-EPCAMN     26250\n",
       "Name: count, dtype: int64"
      ]
     },
     "execution_count": 16,
     "metadata": {},
     "output_type": "execute_result"
    }
   ],
   "source": [
    "adata.obs['Fraction'].value_counts()\n"
   ]
  },
  {
   "cell_type": "code",
   "execution_count": 14,
   "metadata": {},
   "outputs": [
    {
     "data": {
      "text/html": [
       "<div>\n",
       "<style scoped>\n",
       "    .dataframe tbody tr th:only-of-type {\n",
       "        vertical-align: middle;\n",
       "    }\n",
       "\n",
       "    .dataframe tbody tr th {\n",
       "        vertical-align: top;\n",
       "    }\n",
       "\n",
       "    .dataframe thead th {\n",
       "        text-align: right;\n",
       "    }\n",
       "</style>\n",
       "<table border=\"1\" class=\"dataframe\">\n",
       "  <thead>\n",
       "    <tr style=\"text-align: right;\">\n",
       "      <th></th>\n",
       "      <th>Sample_ID</th>\n",
       "      <th>Cell Type</th>\n",
       "      <th>Study_name</th>\n",
       "      <th>Donor_ID</th>\n",
       "      <th>Diagnosis</th>\n",
       "      <th>Age</th>\n",
       "      <th>Region code</th>\n",
       "      <th>Fraction</th>\n",
       "      <th>Sex</th>\n",
       "      <th>Library_Preparation_Protocol</th>\n",
       "      <th>...</th>\n",
       "      <th>total_counts</th>\n",
       "      <th>total_counts_mito</th>\n",
       "      <th>pct_counts_mito</th>\n",
       "      <th>total_counts_ribo</th>\n",
       "      <th>pct_counts_ribo</th>\n",
       "      <th>Cell_ID</th>\n",
       "      <th>_scvi_batch</th>\n",
       "      <th>_scvi_labels</th>\n",
       "      <th>n_genes</th>\n",
       "      <th>n_counts</th>\n",
       "    </tr>\n",
       "    <tr>\n",
       "      <th>cell_id</th>\n",
       "      <th></th>\n",
       "      <th></th>\n",
       "      <th></th>\n",
       "      <th></th>\n",
       "      <th></th>\n",
       "      <th></th>\n",
       "      <th></th>\n",
       "      <th></th>\n",
       "      <th></th>\n",
       "      <th></th>\n",
       "      <th></th>\n",
       "      <th></th>\n",
       "      <th></th>\n",
       "      <th></th>\n",
       "      <th></th>\n",
       "      <th></th>\n",
       "      <th></th>\n",
       "      <th></th>\n",
       "      <th></th>\n",
       "      <th></th>\n",
       "      <th></th>\n",
       "    </tr>\n",
       "  </thead>\n",
       "  <tbody>\n",
       "    <tr>\n",
       "      <th>AAACCTGAGCATCATC-1-Human_colon_16S8159182</th>\n",
       "      <td>F72-FPIL-0-SC-1</td>\n",
       "      <td>Epithelial</td>\n",
       "      <td>Elmentaite, 2021</td>\n",
       "      <td>F72</td>\n",
       "      <td>Fetal Healthy</td>\n",
       "      <td>16Wk</td>\n",
       "      <td>FPIL</td>\n",
       "      <td>SC</td>\n",
       "      <td>Female</td>\n",
       "      <td>10x 5' v1</td>\n",
       "      <td>...</td>\n",
       "      <td>10112.0</td>\n",
       "      <td>308.0</td>\n",
       "      <td>3.045886</td>\n",
       "      <td>3050.0</td>\n",
       "      <td>30.162182</td>\n",
       "      <td>AAACCTGAGCATCATC-1-Human_colon_16S8159182</td>\n",
       "      <td>0</td>\n",
       "      <td>2</td>\n",
       "      <td>2726</td>\n",
       "      <td>10445.0</td>\n",
       "    </tr>\n",
       "    <tr>\n",
       "      <th>AAACCTGAGCGATCCC-1-Human_colon_16S8159182</th>\n",
       "      <td>F72-FPIL-0-SC-1</td>\n",
       "      <td>Epithelial</td>\n",
       "      <td>Elmentaite, 2021</td>\n",
       "      <td>F72</td>\n",
       "      <td>Fetal Healthy</td>\n",
       "      <td>16Wk</td>\n",
       "      <td>FPIL</td>\n",
       "      <td>SC</td>\n",
       "      <td>Female</td>\n",
       "      <td>10x 5' v1</td>\n",
       "      <td>...</td>\n",
       "      <td>25347.0</td>\n",
       "      <td>1247.0</td>\n",
       "      <td>4.919714</td>\n",
       "      <td>9091.0</td>\n",
       "      <td>35.866177</td>\n",
       "      <td>AAACCTGAGCGATCCC-1-Human_colon_16S8159182</td>\n",
       "      <td>0</td>\n",
       "      <td>2</td>\n",
       "      <td>4069</td>\n",
       "      <td>26046.0</td>\n",
       "    </tr>\n",
       "    <tr>\n",
       "      <th>AAACCTGAGCGTTTAC-1-Human_colon_16S8159182</th>\n",
       "      <td>F72-FPIL-0-SC-1</td>\n",
       "      <td>Epithelial</td>\n",
       "      <td>Elmentaite, 2021</td>\n",
       "      <td>F72</td>\n",
       "      <td>Fetal Healthy</td>\n",
       "      <td>16Wk</td>\n",
       "      <td>FPIL</td>\n",
       "      <td>SC</td>\n",
       "      <td>Female</td>\n",
       "      <td>10x 5' v1</td>\n",
       "      <td>...</td>\n",
       "      <td>2388.0</td>\n",
       "      <td>209.0</td>\n",
       "      <td>8.752093</td>\n",
       "      <td>507.0</td>\n",
       "      <td>21.231155</td>\n",
       "      <td>AAACCTGAGCGTTTAC-1-Human_colon_16S8159182</td>\n",
       "      <td>0</td>\n",
       "      <td>2</td>\n",
       "      <td>1118</td>\n",
       "      <td>2452.0</td>\n",
       "    </tr>\n",
       "    <tr>\n",
       "      <th>AAACCTGAGGATGTAT-1-Human_colon_16S8159182</th>\n",
       "      <td>F72-FPIL-0-SC-1</td>\n",
       "      <td>T cells</td>\n",
       "      <td>Elmentaite, 2021</td>\n",
       "      <td>F72</td>\n",
       "      <td>Fetal Healthy</td>\n",
       "      <td>16Wk</td>\n",
       "      <td>FPIL</td>\n",
       "      <td>SC</td>\n",
       "      <td>Female</td>\n",
       "      <td>10x 5' v1</td>\n",
       "      <td>...</td>\n",
       "      <td>1866.0</td>\n",
       "      <td>91.0</td>\n",
       "      <td>4.876742</td>\n",
       "      <td>448.0</td>\n",
       "      <td>24.008575</td>\n",
       "      <td>AAACCTGAGGATGTAT-1-Human_colon_16S8159182</td>\n",
       "      <td>0</td>\n",
       "      <td>9</td>\n",
       "      <td>865</td>\n",
       "      <td>1912.0</td>\n",
       "    </tr>\n",
       "    <tr>\n",
       "      <th>AAACCTGCAAATTGCC-1-Human_colon_16S8159182</th>\n",
       "      <td>F72-FPIL-0-SC-1</td>\n",
       "      <td>Endothelial</td>\n",
       "      <td>Elmentaite, 2021</td>\n",
       "      <td>F72</td>\n",
       "      <td>Fetal Healthy</td>\n",
       "      <td>16Wk</td>\n",
       "      <td>FPIL</td>\n",
       "      <td>SC</td>\n",
       "      <td>Female</td>\n",
       "      <td>10x 5' v1</td>\n",
       "      <td>...</td>\n",
       "      <td>2705.0</td>\n",
       "      <td>284.0</td>\n",
       "      <td>10.499076</td>\n",
       "      <td>368.0</td>\n",
       "      <td>13.604437</td>\n",
       "      <td>AAACCTGCAAATTGCC-1-Human_colon_16S8159182</td>\n",
       "      <td>0</td>\n",
       "      <td>1</td>\n",
       "      <td>1424</td>\n",
       "      <td>2797.0</td>\n",
       "    </tr>\n",
       "    <tr>\n",
       "      <th>...</th>\n",
       "      <td>...</td>\n",
       "      <td>...</td>\n",
       "      <td>...</td>\n",
       "      <td>...</td>\n",
       "      <td>...</td>\n",
       "      <td>...</td>\n",
       "      <td>...</td>\n",
       "      <td>...</td>\n",
       "      <td>...</td>\n",
       "      <td>...</td>\n",
       "      <td>...</td>\n",
       "      <td>...</td>\n",
       "      <td>...</td>\n",
       "      <td>...</td>\n",
       "      <td>...</td>\n",
       "      <td>...</td>\n",
       "      <td>...</td>\n",
       "      <td>...</td>\n",
       "      <td>...</td>\n",
       "      <td>...</td>\n",
       "      <td>...</td>\n",
       "    </tr>\n",
       "    <tr>\n",
       "      <th>TTTGTCAGTACATGTC-1-4918STDY7718977</th>\n",
       "      <td>BRC2134_10Wk_FLI_SC-EPCAMP</td>\n",
       "      <td>Epithelial</td>\n",
       "      <td>Elmentaite, 2021</td>\n",
       "      <td>BRC2134</td>\n",
       "      <td>Fetal Healthy</td>\n",
       "      <td>10Wk</td>\n",
       "      <td>FLI</td>\n",
       "      <td>SC-EPCAMP</td>\n",
       "      <td>Male</td>\n",
       "      <td>10x 3' v1</td>\n",
       "      <td>...</td>\n",
       "      <td>1229.0</td>\n",
       "      <td>54.0</td>\n",
       "      <td>4.393816</td>\n",
       "      <td>388.0</td>\n",
       "      <td>31.570383</td>\n",
       "      <td>TTTGTCAGTACATGTC-1-4918STDY7718977</td>\n",
       "      <td>0</td>\n",
       "      <td>2</td>\n",
       "      <td>712</td>\n",
       "      <td>1282.0</td>\n",
       "    </tr>\n",
       "    <tr>\n",
       "      <th>TTTGTCATCCAAGCCG-1-4918STDY7718977</th>\n",
       "      <td>BRC2134_10Wk_FLI_SC-EPCAMP</td>\n",
       "      <td>Mesenchymal</td>\n",
       "      <td>Elmentaite, 2021</td>\n",
       "      <td>BRC2134</td>\n",
       "      <td>Fetal Healthy</td>\n",
       "      <td>10Wk</td>\n",
       "      <td>FLI</td>\n",
       "      <td>SC-EPCAMP</td>\n",
       "      <td>Male</td>\n",
       "      <td>10x 3' v1</td>\n",
       "      <td>...</td>\n",
       "      <td>6254.0</td>\n",
       "      <td>99.0</td>\n",
       "      <td>1.582987</td>\n",
       "      <td>2664.0</td>\n",
       "      <td>42.596741</td>\n",
       "      <td>TTTGTCATCCAAGCCG-1-4918STDY7718977</td>\n",
       "      <td>0</td>\n",
       "      <td>3</td>\n",
       "      <td>1982</td>\n",
       "      <td>6416.0</td>\n",
       "    </tr>\n",
       "    <tr>\n",
       "      <th>TTTGTCATCCATGCTC-1-4918STDY7718977</th>\n",
       "      <td>BRC2134_10Wk_FLI_SC-EPCAMP</td>\n",
       "      <td>Mesenchymal</td>\n",
       "      <td>Elmentaite, 2021</td>\n",
       "      <td>BRC2134</td>\n",
       "      <td>Fetal Healthy</td>\n",
       "      <td>10Wk</td>\n",
       "      <td>FLI</td>\n",
       "      <td>SC-EPCAMP</td>\n",
       "      <td>Male</td>\n",
       "      <td>10x 3' v1</td>\n",
       "      <td>...</td>\n",
       "      <td>3272.0</td>\n",
       "      <td>44.0</td>\n",
       "      <td>1.344743</td>\n",
       "      <td>1044.0</td>\n",
       "      <td>31.907091</td>\n",
       "      <td>TTTGTCATCCATGCTC-1-4918STDY7718977</td>\n",
       "      <td>0</td>\n",
       "      <td>3</td>\n",
       "      <td>1483</td>\n",
       "      <td>3389.0</td>\n",
       "    </tr>\n",
       "    <tr>\n",
       "      <th>TTTGTCATCCCAAGTA-1-4918STDY7718977</th>\n",
       "      <td>BRC2134_10Wk_FLI_SC-EPCAMP</td>\n",
       "      <td>Mesenchymal</td>\n",
       "      <td>Elmentaite, 2021</td>\n",
       "      <td>BRC2134</td>\n",
       "      <td>Fetal Healthy</td>\n",
       "      <td>10Wk</td>\n",
       "      <td>FLI</td>\n",
       "      <td>SC-EPCAMP</td>\n",
       "      <td>Male</td>\n",
       "      <td>10x 3' v1</td>\n",
       "      <td>...</td>\n",
       "      <td>6643.0</td>\n",
       "      <td>96.0</td>\n",
       "      <td>1.445130</td>\n",
       "      <td>2589.0</td>\n",
       "      <td>38.973354</td>\n",
       "      <td>TTTGTCATCCCAAGTA-1-4918STDY7718977</td>\n",
       "      <td>0</td>\n",
       "      <td>3</td>\n",
       "      <td>2166</td>\n",
       "      <td>6866.0</td>\n",
       "    </tr>\n",
       "    <tr>\n",
       "      <th>TTTGTCATCCGTAGTA-1-4918STDY7718977</th>\n",
       "      <td>BRC2134_10Wk_FLI_SC-EPCAMP</td>\n",
       "      <td>Mesenchymal</td>\n",
       "      <td>Elmentaite, 2021</td>\n",
       "      <td>BRC2134</td>\n",
       "      <td>Fetal Healthy</td>\n",
       "      <td>10Wk</td>\n",
       "      <td>FLI</td>\n",
       "      <td>SC-EPCAMP</td>\n",
       "      <td>Male</td>\n",
       "      <td>10x 3' v1</td>\n",
       "      <td>...</td>\n",
       "      <td>3121.0</td>\n",
       "      <td>94.0</td>\n",
       "      <td>3.011855</td>\n",
       "      <td>1022.0</td>\n",
       "      <td>32.745914</td>\n",
       "      <td>TTTGTCATCCGTAGTA-1-4918STDY7718977</td>\n",
       "      <td>0</td>\n",
       "      <td>3</td>\n",
       "      <td>1378</td>\n",
       "      <td>3212.0</td>\n",
       "    </tr>\n",
       "  </tbody>\n",
       "</table>\n",
       "<p>231646 rows × 30 columns</p>\n",
       "</div>"
      ],
      "text/plain": [
       "                                                            Sample_ID  \\\n",
       "cell_id                                                                 \n",
       "AAACCTGAGCATCATC-1-Human_colon_16S8159182             F72-FPIL-0-SC-1   \n",
       "AAACCTGAGCGATCCC-1-Human_colon_16S8159182             F72-FPIL-0-SC-1   \n",
       "AAACCTGAGCGTTTAC-1-Human_colon_16S8159182             F72-FPIL-0-SC-1   \n",
       "AAACCTGAGGATGTAT-1-Human_colon_16S8159182             F72-FPIL-0-SC-1   \n",
       "AAACCTGCAAATTGCC-1-Human_colon_16S8159182             F72-FPIL-0-SC-1   \n",
       "...                                                               ...   \n",
       "TTTGTCAGTACATGTC-1-4918STDY7718977         BRC2134_10Wk_FLI_SC-EPCAMP   \n",
       "TTTGTCATCCAAGCCG-1-4918STDY7718977         BRC2134_10Wk_FLI_SC-EPCAMP   \n",
       "TTTGTCATCCATGCTC-1-4918STDY7718977         BRC2134_10Wk_FLI_SC-EPCAMP   \n",
       "TTTGTCATCCCAAGTA-1-4918STDY7718977         BRC2134_10Wk_FLI_SC-EPCAMP   \n",
       "TTTGTCATCCGTAGTA-1-4918STDY7718977         BRC2134_10Wk_FLI_SC-EPCAMP   \n",
       "\n",
       "                                             Cell Type        Study_name  \\\n",
       "cell_id                                                                    \n",
       "AAACCTGAGCATCATC-1-Human_colon_16S8159182   Epithelial  Elmentaite, 2021   \n",
       "AAACCTGAGCGATCCC-1-Human_colon_16S8159182   Epithelial  Elmentaite, 2021   \n",
       "AAACCTGAGCGTTTAC-1-Human_colon_16S8159182   Epithelial  Elmentaite, 2021   \n",
       "AAACCTGAGGATGTAT-1-Human_colon_16S8159182      T cells  Elmentaite, 2021   \n",
       "AAACCTGCAAATTGCC-1-Human_colon_16S8159182  Endothelial  Elmentaite, 2021   \n",
       "...                                                ...               ...   \n",
       "TTTGTCAGTACATGTC-1-4918STDY7718977          Epithelial  Elmentaite, 2021   \n",
       "TTTGTCATCCAAGCCG-1-4918STDY7718977         Mesenchymal  Elmentaite, 2021   \n",
       "TTTGTCATCCATGCTC-1-4918STDY7718977         Mesenchymal  Elmentaite, 2021   \n",
       "TTTGTCATCCCAAGTA-1-4918STDY7718977         Mesenchymal  Elmentaite, 2021   \n",
       "TTTGTCATCCGTAGTA-1-4918STDY7718977         Mesenchymal  Elmentaite, 2021   \n",
       "\n",
       "                                          Donor_ID      Diagnosis   Age  \\\n",
       "cell_id                                                                   \n",
       "AAACCTGAGCATCATC-1-Human_colon_16S8159182      F72  Fetal Healthy  16Wk   \n",
       "AAACCTGAGCGATCCC-1-Human_colon_16S8159182      F72  Fetal Healthy  16Wk   \n",
       "AAACCTGAGCGTTTAC-1-Human_colon_16S8159182      F72  Fetal Healthy  16Wk   \n",
       "AAACCTGAGGATGTAT-1-Human_colon_16S8159182      F72  Fetal Healthy  16Wk   \n",
       "AAACCTGCAAATTGCC-1-Human_colon_16S8159182      F72  Fetal Healthy  16Wk   \n",
       "...                                            ...            ...   ...   \n",
       "TTTGTCAGTACATGTC-1-4918STDY7718977         BRC2134  Fetal Healthy  10Wk   \n",
       "TTTGTCATCCAAGCCG-1-4918STDY7718977         BRC2134  Fetal Healthy  10Wk   \n",
       "TTTGTCATCCATGCTC-1-4918STDY7718977         BRC2134  Fetal Healthy  10Wk   \n",
       "TTTGTCATCCCAAGTA-1-4918STDY7718977         BRC2134  Fetal Healthy  10Wk   \n",
       "TTTGTCATCCGTAGTA-1-4918STDY7718977         BRC2134  Fetal Healthy  10Wk   \n",
       "\n",
       "                                          Region code   Fraction     Sex  \\\n",
       "cell_id                                                                    \n",
       "AAACCTGAGCATCATC-1-Human_colon_16S8159182        FPIL         SC  Female   \n",
       "AAACCTGAGCGATCCC-1-Human_colon_16S8159182        FPIL         SC  Female   \n",
       "AAACCTGAGCGTTTAC-1-Human_colon_16S8159182        FPIL         SC  Female   \n",
       "AAACCTGAGGATGTAT-1-Human_colon_16S8159182        FPIL         SC  Female   \n",
       "AAACCTGCAAATTGCC-1-Human_colon_16S8159182        FPIL         SC  Female   \n",
       "...                                               ...        ...     ...   \n",
       "TTTGTCAGTACATGTC-1-4918STDY7718977                FLI  SC-EPCAMP    Male   \n",
       "TTTGTCATCCAAGCCG-1-4918STDY7718977                FLI  SC-EPCAMP    Male   \n",
       "TTTGTCATCCATGCTC-1-4918STDY7718977                FLI  SC-EPCAMP    Male   \n",
       "TTTGTCATCCCAAGTA-1-4918STDY7718977                FLI  SC-EPCAMP    Male   \n",
       "TTTGTCATCCGTAGTA-1-4918STDY7718977                FLI  SC-EPCAMP    Male   \n",
       "\n",
       "                                          Library_Preparation_Protocol  ...  \\\n",
       "cell_id                                                                 ...   \n",
       "AAACCTGAGCATCATC-1-Human_colon_16S8159182                    10x 5' v1  ...   \n",
       "AAACCTGAGCGATCCC-1-Human_colon_16S8159182                    10x 5' v1  ...   \n",
       "AAACCTGAGCGTTTAC-1-Human_colon_16S8159182                    10x 5' v1  ...   \n",
       "AAACCTGAGGATGTAT-1-Human_colon_16S8159182                    10x 5' v1  ...   \n",
       "AAACCTGCAAATTGCC-1-Human_colon_16S8159182                    10x 5' v1  ...   \n",
       "...                                                                ...  ...   \n",
       "TTTGTCAGTACATGTC-1-4918STDY7718977                           10x 3' v1  ...   \n",
       "TTTGTCATCCAAGCCG-1-4918STDY7718977                           10x 3' v1  ...   \n",
       "TTTGTCATCCATGCTC-1-4918STDY7718977                           10x 3' v1  ...   \n",
       "TTTGTCATCCCAAGTA-1-4918STDY7718977                           10x 3' v1  ...   \n",
       "TTTGTCATCCGTAGTA-1-4918STDY7718977                           10x 3' v1  ...   \n",
       "\n",
       "                                          total_counts total_counts_mito  \\\n",
       "cell_id                                                                    \n",
       "AAACCTGAGCATCATC-1-Human_colon_16S8159182      10112.0             308.0   \n",
       "AAACCTGAGCGATCCC-1-Human_colon_16S8159182      25347.0            1247.0   \n",
       "AAACCTGAGCGTTTAC-1-Human_colon_16S8159182       2388.0             209.0   \n",
       "AAACCTGAGGATGTAT-1-Human_colon_16S8159182       1866.0              91.0   \n",
       "AAACCTGCAAATTGCC-1-Human_colon_16S8159182       2705.0             284.0   \n",
       "...                                                ...               ...   \n",
       "TTTGTCAGTACATGTC-1-4918STDY7718977              1229.0              54.0   \n",
       "TTTGTCATCCAAGCCG-1-4918STDY7718977              6254.0              99.0   \n",
       "TTTGTCATCCATGCTC-1-4918STDY7718977              3272.0              44.0   \n",
       "TTTGTCATCCCAAGTA-1-4918STDY7718977              6643.0              96.0   \n",
       "TTTGTCATCCGTAGTA-1-4918STDY7718977              3121.0              94.0   \n",
       "\n",
       "                                          pct_counts_mito total_counts_ribo  \\\n",
       "cell_id                                                                       \n",
       "AAACCTGAGCATCATC-1-Human_colon_16S8159182        3.045886            3050.0   \n",
       "AAACCTGAGCGATCCC-1-Human_colon_16S8159182        4.919714            9091.0   \n",
       "AAACCTGAGCGTTTAC-1-Human_colon_16S8159182        8.752093             507.0   \n",
       "AAACCTGAGGATGTAT-1-Human_colon_16S8159182        4.876742             448.0   \n",
       "AAACCTGCAAATTGCC-1-Human_colon_16S8159182       10.499076             368.0   \n",
       "...                                                   ...               ...   \n",
       "TTTGTCAGTACATGTC-1-4918STDY7718977               4.393816             388.0   \n",
       "TTTGTCATCCAAGCCG-1-4918STDY7718977               1.582987            2664.0   \n",
       "TTTGTCATCCATGCTC-1-4918STDY7718977               1.344743            1044.0   \n",
       "TTTGTCATCCCAAGTA-1-4918STDY7718977               1.445130            2589.0   \n",
       "TTTGTCATCCGTAGTA-1-4918STDY7718977               3.011855            1022.0   \n",
       "\n",
       "                                          pct_counts_ribo  \\\n",
       "cell_id                                                     \n",
       "AAACCTGAGCATCATC-1-Human_colon_16S8159182       30.162182   \n",
       "AAACCTGAGCGATCCC-1-Human_colon_16S8159182       35.866177   \n",
       "AAACCTGAGCGTTTAC-1-Human_colon_16S8159182       21.231155   \n",
       "AAACCTGAGGATGTAT-1-Human_colon_16S8159182       24.008575   \n",
       "AAACCTGCAAATTGCC-1-Human_colon_16S8159182       13.604437   \n",
       "...                                                   ...   \n",
       "TTTGTCAGTACATGTC-1-4918STDY7718977              31.570383   \n",
       "TTTGTCATCCAAGCCG-1-4918STDY7718977              42.596741   \n",
       "TTTGTCATCCATGCTC-1-4918STDY7718977              31.907091   \n",
       "TTTGTCATCCCAAGTA-1-4918STDY7718977              38.973354   \n",
       "TTTGTCATCCGTAGTA-1-4918STDY7718977              32.745914   \n",
       "\n",
       "                                                                             Cell_ID  \\\n",
       "cell_id                                                                                \n",
       "AAACCTGAGCATCATC-1-Human_colon_16S8159182  AAACCTGAGCATCATC-1-Human_colon_16S8159182   \n",
       "AAACCTGAGCGATCCC-1-Human_colon_16S8159182  AAACCTGAGCGATCCC-1-Human_colon_16S8159182   \n",
       "AAACCTGAGCGTTTAC-1-Human_colon_16S8159182  AAACCTGAGCGTTTAC-1-Human_colon_16S8159182   \n",
       "AAACCTGAGGATGTAT-1-Human_colon_16S8159182  AAACCTGAGGATGTAT-1-Human_colon_16S8159182   \n",
       "AAACCTGCAAATTGCC-1-Human_colon_16S8159182  AAACCTGCAAATTGCC-1-Human_colon_16S8159182   \n",
       "...                                                                              ...   \n",
       "TTTGTCAGTACATGTC-1-4918STDY7718977                TTTGTCAGTACATGTC-1-4918STDY7718977   \n",
       "TTTGTCATCCAAGCCG-1-4918STDY7718977                TTTGTCATCCAAGCCG-1-4918STDY7718977   \n",
       "TTTGTCATCCATGCTC-1-4918STDY7718977                TTTGTCATCCATGCTC-1-4918STDY7718977   \n",
       "TTTGTCATCCCAAGTA-1-4918STDY7718977                TTTGTCATCCCAAGTA-1-4918STDY7718977   \n",
       "TTTGTCATCCGTAGTA-1-4918STDY7718977                TTTGTCATCCGTAGTA-1-4918STDY7718977   \n",
       "\n",
       "                                          _scvi_batch _scvi_labels n_genes  \\\n",
       "cell_id                                                                      \n",
       "AAACCTGAGCATCATC-1-Human_colon_16S8159182           0            2    2726   \n",
       "AAACCTGAGCGATCCC-1-Human_colon_16S8159182           0            2    4069   \n",
       "AAACCTGAGCGTTTAC-1-Human_colon_16S8159182           0            2    1118   \n",
       "AAACCTGAGGATGTAT-1-Human_colon_16S8159182           0            9     865   \n",
       "AAACCTGCAAATTGCC-1-Human_colon_16S8159182           0            1    1424   \n",
       "...                                               ...          ...     ...   \n",
       "TTTGTCAGTACATGTC-1-4918STDY7718977                  0            2     712   \n",
       "TTTGTCATCCAAGCCG-1-4918STDY7718977                  0            3    1982   \n",
       "TTTGTCATCCATGCTC-1-4918STDY7718977                  0            3    1483   \n",
       "TTTGTCATCCCAAGTA-1-4918STDY7718977                  0            3    2166   \n",
       "TTTGTCATCCGTAGTA-1-4918STDY7718977                  0            3    1378   \n",
       "\n",
       "                                           n_counts  \n",
       "cell_id                                              \n",
       "AAACCTGAGCATCATC-1-Human_colon_16S8159182   10445.0  \n",
       "AAACCTGAGCGATCCC-1-Human_colon_16S8159182   26046.0  \n",
       "AAACCTGAGCGTTTAC-1-Human_colon_16S8159182    2452.0  \n",
       "AAACCTGAGGATGTAT-1-Human_colon_16S8159182    1912.0  \n",
       "AAACCTGCAAATTGCC-1-Human_colon_16S8159182    2797.0  \n",
       "...                                             ...  \n",
       "TTTGTCAGTACATGTC-1-4918STDY7718977           1282.0  \n",
       "TTTGTCATCCAAGCCG-1-4918STDY7718977           6416.0  \n",
       "TTTGTCATCCATGCTC-1-4918STDY7718977           3389.0  \n",
       "TTTGTCATCCCAAGTA-1-4918STDY7718977           6866.0  \n",
       "TTTGTCATCCGTAGTA-1-4918STDY7718977           3212.0  \n",
       "\n",
       "[231646 rows x 30 columns]"
      ]
     },
     "execution_count": 14,
     "metadata": {},
     "output_type": "execute_result"
    }
   ],
   "source": [
    "adata.obs"
   ]
  },
  {
   "cell_type": "code",
   "execution_count": 17,
   "metadata": {},
   "outputs": [
    {
     "name": "stdout",
     "output_type": "stream",
     "text": [
      "If you pass `n_top_genes`, all cutoffs are ignored.\n",
      "extracting highly variable genes\n",
      "--> added\n",
      "    'highly_variable', boolean vector (adata.var)\n",
      "    'highly_variable_rank', float vector (adata.var)\n",
      "    'means', float vector (adata.var)\n",
      "    'variances', float vector (adata.var)\n",
      "    'variances_norm', float vector (adata.var)\n"
     ]
    },
    {
     "data": {
      "text/plain": [
       "AnnData object with n_obs × n_vars = 231646 × 5000\n",
       "    obs: 'Sample_ID', 'Cell Type', 'Study_name', 'Donor_ID', 'Diagnosis', 'Age', 'Region code', 'Fraction', 'Sex', 'Library_Preparation_Protocol', 'batch', 'Age_group', 'Location', 'Cell States', 'Cell States GCA', 'Chem', 'Layer', 'Cell States Kong', 'dataset', 'n_genes_by_counts', 'total_counts', 'total_counts_mito', 'pct_counts_mito', 'total_counts_ribo', 'pct_counts_ribo', 'Cell_ID', '_scvi_batch', '_scvi_labels', 'n_genes', 'n_counts'\n",
       "    var: 'feature_types-0-0-0', 'gene_name-1-0-0', 'gene_id-0-0', 'GENE-1-0', 'n_counts', 'n_cells', 'highly_variable', 'highly_variable_rank', 'means', 'variances', 'variances_norm', 'highly_variable_nbatches'\n",
       "    uns: 'hvg'\n",
       "    layers: 'counts'"
      ]
     },
     "execution_count": 17,
     "metadata": {},
     "output_type": "execute_result"
    }
   ],
   "source": [
    "sc.pp.highly_variable_genes(\n",
    "    adata,\n",
    "    flavor = \"seurat_v3\",\n",
    "    n_top_genes = 5000,\n",
    "    layer = \"counts\",\n",
    "    batch_key = \"Library_Preparation_Protocol\",\n",
    "    subset = True,\n",
    "    span = 1\n",
    ")\n",
    "adata"
   ]
  },
  {
   "cell_type": "markdown",
   "metadata": {},
   "source": [
    "### Data integration with `scVI`"
   ]
  },
  {
   "cell_type": "code",
   "execution_count": 18,
   "metadata": {},
   "outputs": [
    {
     "name": "stderr",
     "output_type": "stream",
     "text": [
      "An NVIDIA GPU may be present on this machine, but a CUDA-enabled jaxlib is not installed. Falling back to cpu.\n"
     ]
    }
   ],
   "source": [
    "scvi.model.SCVI.setup_anndata(\n",
    "    adata,\n",
    "    layer = \"counts\",\n",
    "    categorical_covariate_keys = [\"Sample_ID\"],\n",
    "    continuous_covariate_keys = [\"n_genes\", \"n_counts\"]\n",
    ")"
   ]
  },
  {
   "cell_type": "code",
   "execution_count": 19,
   "metadata": {},
   "outputs": [
    {
     "data": {
      "text/html": [
       "<pre style=\"white-space:pre;overflow-x:auto;line-height:normal;font-family:Menlo,'DejaVu Sans Mono',consolas,'Courier New',monospace\">SCVI Model with the following params: \n",
       "n_hidden: <span style=\"color: #008080; text-decoration-color: #008080; font-weight: bold\">128</span>, n_latent: <span style=\"color: #008080; text-decoration-color: #008080; font-weight: bold\">50</span>, n_layers: <span style=\"color: #008080; text-decoration-color: #008080; font-weight: bold\">3</span>, dropout_rate: <span style=\"color: #008080; text-decoration-color: #008080; font-weight: bold\">0.1</span>, dispersion: gene-batch, gene_likelihood: nb, \n",
       "latent_distribution: normal\n",
       "Training status: Not Trained\n",
       "Model's adata is minified?: <span style=\"color: #ff0000; text-decoration-color: #ff0000; font-style: italic\">False</span>\n",
       "</pre>\n"
      ],
      "text/plain": [
       "SCVI Model with the following params: \n",
       "n_hidden: \u001b[1;36m128\u001b[0m, n_latent: \u001b[1;36m50\u001b[0m, n_layers: \u001b[1;36m3\u001b[0m, dropout_rate: \u001b[1;36m0.1\u001b[0m, dispersion: gene-batch, gene_likelihood: nb, \n",
       "latent_distribution: normal\n",
       "Training status: Not Trained\n",
       "Model's adata is minified?: \u001b[3;91mFalse\u001b[0m\n"
      ]
     },
     "metadata": {},
     "output_type": "display_data"
    },
    {
     "data": {
      "text/plain": []
     },
     "execution_count": 19,
     "metadata": {},
     "output_type": "execute_result"
    }
   ],
   "source": [
    "model = scvi.model.SCVI(adata, n_layers = 3, n_latent = 50, gene_likelihood = \"nb\", dispersion = 'gene-batch')\n",
    "model"
   ]
  },
  {
   "cell_type": "code",
   "execution_count": 20,
   "metadata": {},
   "outputs": [
    {
     "name": "stderr",
     "output_type": "stream",
     "text": [
      "GPU available: True (cuda), used: True\n",
      "TPU available: False, using: 0 TPU cores\n",
      "IPU available: False, using: 0 IPUs\n",
      "HPU available: False, using: 0 HPUs\n",
      "LOCAL_RANK: 0 - CUDA_VISIBLE_DEVICES: [0,1]\n"
     ]
    },
    {
     "name": "stdout",
     "output_type": "stream",
     "text": [
      "Epoch 35/35: 100%|██████████████████████████████████████████| 35/35 [05:56<00:00,  9.43s/it, v_num=1, train_loss_step=1.34e+3, train_loss_epoch=1.27e+3]"
     ]
    },
    {
     "name": "stderr",
     "output_type": "stream",
     "text": [
      "`Trainer.fit` stopped: `max_epochs=35` reached.\n"
     ]
    },
    {
     "name": "stdout",
     "output_type": "stream",
     "text": [
      "Epoch 35/35: 100%|██████████████████████████████████████████| 35/35 [05:56<00:00, 10.18s/it, v_num=1, train_loss_step=1.34e+3, train_loss_epoch=1.27e+3]\n"
     ]
    }
   ],
   "source": [
    "model.train()"
   ]
  },
  {
   "cell_type": "code",
   "execution_count": 21,
   "metadata": {},
   "outputs": [],
   "source": [
    "latent = model.get_latent_representation()\n",
    "adata.obsm[\"X_scVI\"] = latent"
   ]
  },
  {
   "cell_type": "code",
   "execution_count": 22,
   "metadata": {},
   "outputs": [
    {
     "name": "stdout",
     "output_type": "stream",
     "text": [
      "computing neighbors\n",
      "    finished: added to `.uns['neighbors']`\n",
      "    `.obsp['distances']`, distances for each pair of neighbors\n",
      "    `.obsp['connectivities']`, weighted adjacency matrix (0:01:15)\n",
      "computing UMAP\n",
      "    finished: added\n",
      "    'X_umap', UMAP coordinates (adata.obsm) (0:02:01)\n"
     ]
    }
   ],
   "source": [
    "sc.pp.neighbors(adata, use_rep = \"X_scVI\", n_neighbors = 50, metric = 'minkowski')\n",
    "sc.tl.umap(adata, min_dist = 0.3, spread = 1, random_state = 1712)"
   ]
  },
  {
   "cell_type": "code",
   "execution_count": 23,
   "metadata": {},
   "outputs": [],
   "source": [
    "adata.write_h5ad('/home/amaguza/data/Processed_data/Gut_data/Stem_cells/Fetal_cells_scvi.h5ad')"
   ]
  },
  {
   "cell_type": "code",
   "execution_count": 7,
   "metadata": {},
   "outputs": [
    {
     "data": {
      "text/plain": [
       "AnnData object with n_obs × n_vars = 231646 × 5000\n",
       "    obs: 'Sample_ID', 'Cell Type', 'Study_name', 'Donor_ID', 'Diagnosis', 'Age', 'Region code', 'Fraction', 'Sex', 'Library_Preparation_Protocol', 'batch', 'Age_group', 'Location', 'Cell States', 'Cell States GCA', 'Chem', 'Layer', 'Cell States Kong', 'dataset', 'n_genes_by_counts', 'total_counts', 'total_counts_mito', 'pct_counts_mito', 'total_counts_ribo', 'pct_counts_ribo', 'Cell_ID', '_scvi_batch', '_scvi_labels', 'n_genes', 'n_counts'\n",
       "    var: 'feature_types-0-0-0', 'gene_name-1-0-0', 'gene_id-0-0', 'GENE-1-0', 'n_counts', 'n_cells', 'highly_variable', 'highly_variable_rank', 'means', 'variances', 'variances_norm', 'highly_variable_nbatches'\n",
       "    uns: '_scvi_manager_uuid', '_scvi_uuid', 'hvg', 'neighbors', 'umap'\n",
       "    obsm: 'X_scVI', 'X_umap', '_scvi_extra_categorical_covs', '_scvi_extra_continuous_covs'\n",
       "    layers: 'counts'\n",
       "    obsp: 'connectivities', 'distances'"
      ]
     },
     "execution_count": 7,
     "metadata": {},
     "output_type": "execute_result"
    }
   ],
   "source": [
    "adata = sc.read_h5ad('/home/amaguza/data/Processed_data/Gut_data/Stem_cells/Fetal_cells_scvi.h5ad')\n",
    "adata"
   ]
  },
  {
   "cell_type": "code",
   "execution_count": null,
   "metadata": {},
   "outputs": [],
   "source": [
    "sc.pl.umap(adata, frameon = False, color = ['Cell States'], color_map='magma_r', size = 1, legend_fontsize = 5, ncols = 4)"
   ]
  },
  {
   "cell_type": "code",
   "execution_count": 8,
   "metadata": {},
   "outputs": [],
   "source": [
    "df = adata.obs['Cell States'].value_counts()"
   ]
  },
  {
   "cell_type": "code",
   "execution_count": 9,
   "metadata": {},
   "outputs": [],
   "source": [
    "# Make a column adata.obs['ASS1+_SLC40A1+_SC'], and put true there if adata.obs['Cell States'] == 'ASS1+_SLC40A1+_SC'\n",
    "adata.obs['ASS1+_SLC40A1+_SC'] = adata.obs['Cell States'] == 'ASS1+_SLC40A1+_SC'\n",
    "adata.obs['FXYD3+_CKB+_SC'] = adata.obs['Cell States'] == 'FXYD3+_CKB+_SC'\n",
    "adata.obs['RPS10+_RPS17+_SC'] = adata.obs['Cell States'] == 'RPS10+_RPS17+_SC'\n",
    "\n",
    "# Change adata.obs['ASS1+_SLC40A1+_SC'] to categorical\n",
    "adata.obs['ASS1+_SLC40A1+_SC'] = adata.obs['ASS1+_SLC40A1+_SC'].astype('category')\n",
    "adata.obs['FXYD3+_CKB+_SC'] = adata.obs['FXYD3+_CKB+_SC'].astype('category')\n",
    "adata.obs['RPS10+_RPS17+_SC'] = adata.obs['RPS10+_RPS17+_SC'].astype('category')"
   ]
  },
  {
   "cell_type": "code",
   "execution_count": null,
   "metadata": {},
   "outputs": [],
   "source": [
    "sc.pl.umap(adata, frameon = False, color = ['ASS1+_SLC40A1+_SC', 'RPS10+_RPS17+_SC', 'FXYD3+_CKB+_SC'], size = 1, legend_fontsize = 5, ncols = 4)"
   ]
  },
  {
   "cell_type": "code",
   "execution_count": null,
   "metadata": {},
   "outputs": [],
   "source": [
    "# Plot umap with leiden clusters\n",
    "sc.set_figure_params(dpi=300)\n",
    "sc.pl.umap(adata, frameon = False, color = ['Cell Type', 'Donor_ID', 'Age', 'Age_group', 'Library_Preparation_Protocol', 'Sex', 'n_genes_by_counts', 'total_counts', 'pct_counts_mito', 'pct_counts_ribo'], size = 1, legend_fontsize = 5, ncols = 3, color_map='magma')"
   ]
  },
  {
   "cell_type": "code",
   "execution_count": null,
   "metadata": {},
   "outputs": [],
   "source": [
    "# Plot umap with leiden clusters\n",
    "sc.set_figure_params(dpi=300)\n",
    "sc.pl.umap(adata, frameon = False, color = ['ASS1+_SLC40A1+_SC', 'MTRNR2L12', 'ASS1', 'CCL25', 'MT-ATP8', 'CYP2W1', 'PHGR1', 'SLC40A1', 'SAT1',\n",
    "                                            'OAT', 'ANPEP', 'XIST', 'KRT18', 'IFITM1', 'RPS26', 'NFKBIA', 'NENF', 'FAM13A', 'SQSTM1',\n",
    "                                            'JUN', 'CYSTM1', 'MT-ND4L', 'PCBP1', 'SPINK1'], size = 1, legend_fontsize = 5, ncols = 4, color_map='magma_r')"
   ]
  },
  {
   "cell_type": "code",
   "execution_count": null,
   "metadata": {},
   "outputs": [],
   "source": [
    "# Plot umap with leiden clusters\n",
    "sc.set_figure_params(dpi=300)\n",
    "sc.pl.umap(adata, frameon = False, color = ['RPS10+_RPS17+_SC', \"RPS10\", \"RPS17\", \"RPS4Y1\", \"NDUFA13\", \"MDK\", \"NDUFC2\", \"PSMA2\", \"NDUFA11\", \"NME1\", \"CSNK2B\",\n",
    "                                             \"PSMA1\", \"RPL26\", \"NDUFB8\", \"APOA1\", \"MINOS1\", \"MALAT1\", \"ARL6IP1\", \"ATP5PO\", \"AFP\", \"GCSH\", \"MRPL23\", \n",
    "                                             \"EEF1E1\", \"NAP1L1\", \"TMBIM4\"], size = 1, legend_fontsize = 5, ncols = 4, color_map='magma_r')"
   ]
  },
  {
   "cell_type": "code",
   "execution_count": null,
   "metadata": {},
   "outputs": [],
   "source": [
    "# Plot umap with leiden clusters\n",
    "sc.set_figure_params(dpi=300)\n",
    "sc.pl.umap(adata, frameon = False, color = ['FXYD3+_CKB+_SC', \"FXYD3\", \"CKB\", \"KRT19\", \"AKAP7\", \"S100A6\", \"ITM2C\", \"FOS\", \"RHOB\", \"PPP1R15A\",\n",
    "                                            \"C19orf33\", \"CST3\", \"LCN15\", \"EGR1\", \"TFF3\", \"DUSP1\", \"UBC\", \"C15orf48\", \"CA12\", \"H3F3B\", \n",
    "                                            \"FABP1\", \"CTGF\", \"PPDPF\", \"IGF2-1\", \"BTG2\", \"MYL6\", \"LGALS4\", \"JUN\"], \n",
    "                                            size = 1, legend_fontsize = 5, ncols = 4, color_map='magma_r')"
   ]
  },
  {
   "cell_type": "code",
   "execution_count": 18,
   "metadata": {},
   "outputs": [
    {
     "name": "stdout",
     "output_type": "stream",
     "text": [
      "computing score 'Stem_cells_markers_score'\n",
      "    finished: added\n",
      "    'Stem_cells_markers_score', score of gene set (adata.obs).\n",
      "    499 total control genes are used. (0:00:03)\n"
     ]
    }
   ],
   "source": [
    "stem_cells_markers = ['LGR5', 'BMI1', 'GJA1', 'TACSTD2', 'SOX2', 'NANOG', 'LY6H', 'SPP1', 'DCLK1',\n",
    "                                            'CD44', 'DCLK1', 'TERT', 'ALCAM', 'ASCL2', 'BMPR1A', 'EPHB2']\n",
    "# perform gene enrichment analysis on the stem cells markers\n",
    "sc.tl.score_genes(adata, stem_cells_markers, score_name = \"Stem_cells_markers_score\")"
   ]
  },
  {
   "cell_type": "code",
   "execution_count": null,
   "metadata": {},
   "outputs": [],
   "source": [
    "# Plot umap with leiden clusters\n",
    "sc.set_figure_params(dpi=300)\n",
    "sc.pl.umap(adata, frameon = False, color = ['Cell Type','ASS1+_SLC40A1+_SC', 'RPS10+_RPS17+_SC', 'FXYD3+_CKB+_SC', 'LGR5', 'BMI1', 'GJA1', 'TACSTD2', \n",
    "                                            'SOX2', 'NANOG', 'LY6H', 'SPP1', 'DCLK1','CD44', 'DCLK1', 'TERT', 'ALCAM', 'ASCL2', 'BMPR1A', 'EPHB2'], \n",
    "                                            size = 1, legend_fontsize = 5, ncols = 4, color_map='magma_r')"
   ]
  },
  {
   "cell_type": "code",
   "execution_count": null,
   "metadata": {},
   "outputs": [],
   "source": [
    "sc.set_figure_params(dpi=300)\n",
    "sc.pl.umap(adata, frameon = False, color = ['LGR5', 'BMI1', 'GJA1', 'TACSTD2', 'SOX2', 'NANOG', 'LY6H', 'SPP1', 'DCLK1', 'CD44', 'DCLK1', 'TERT', 'ALCAM', 'ASCL2', 'BMPR1A', 'EPHB2', 'ACAD10', \n",
    "                      'ACVR1C', 'ARSE', 'ASCL2', 'ATP10B', 'C16orf89', 'C6orf136', 'CDCA7', 'CFTR', 'CHMP4C', 'CHP2', 'CLDN15', 'CLDN18', 'CLDN2', 'CPA6', 'DAPK2', 'DDC', \n",
    "                      'EFNA3', 'EPHB2', 'EVPL', 'F2RL1', 'FBLN2', 'FOXD2-AS1', 'GATA6-AS1', 'GDF15', 'GJB1', 'GJB2', 'GOLT1A', 'GPX2', 'HNF1A', 'HSD17B2', 'ITPKC', \n",
    "                      'LEFTY1', 'LIPG', 'MGST1', 'MSI1', 'MYOM3', 'NOX1', 'OLFM4', 'PCSK9', 'PDZD3', 'PHLDA1', 'PKP2', 'PLAGL2', 'PLEKHH1', \n",
    "                      'PPP1R1B', 'PTGDR', 'PTK7', 'RGMB', 'RNF157', 'RNF186', 'SFN', 'SLC27A2', 'SLC38A4', 'SLPI', 'SULT1B1', 'TAF4B', 'TANC1', 'TMEM171', 'TSPAN8', \n",
    "                      'URB1-AS1', 'ZBED9', 'ZNF296'], \n",
    "                                            size = 1, legend_fontsize = 5, ncols = 10, color_map='magma_r')"
   ]
  },
  {
   "cell_type": "code",
   "execution_count": null,
   "metadata": {},
   "outputs": [],
   "source": [
    "stem_cells_markers = ['LGR5', 'BMI1', 'GJA1', 'TACSTD2', 'SOX2', 'NANOG', 'LY6H', 'SPP1', 'DCLK1', 'CD44', 'DCLK1', 'TERT', 'ALCAM', 'ASCL2', 'BMPR1A', 'EPHB2', 'ACAD10', \n",
    "                      'ACVR1C', 'ARSE', 'ASCL2', 'ATP10B', 'C16orf89', 'C6orf136', 'CDCA7', 'CFTR', 'CHMP4C', 'CHP2', 'CLDN15', 'CLDN18', 'CLDN2', 'CPA6', 'DAPK2', 'DDC', \n",
    "                      'EFNA3', 'EPHB2', 'EVPL', 'F2RL1', 'FBLN2', 'FOXD2-AS1', 'GATA6-AS1', 'GDF15', 'GJB1', 'GJB2', 'GOLT1A', 'GPX2', 'HNF1A', 'HSD17B2', 'ITPKC', \n",
    "                      'LEFTY1', 'LIPG', 'MGST1', 'MSI1', 'MYOM3', 'NOX1', 'OLFM4', 'PCSK9', 'PDZD3', 'PHLDA1', 'PKP2', 'PLAGL2', 'PLEKHH1', \n",
    "                      'PPP1R1B', 'PTGDR', 'PTK7', 'RGMB', 'RNF157', 'RNF186', 'SFN', 'SLC27A2', 'SLC38A4', 'SLPI', 'SULT1B1', 'TAF4B', 'TANC1', 'TMEM171', 'TSPAN8', \n",
    "                      'URB1-AS1', 'ZBED9', 'ZNF296']\n",
    "\n",
    "sc.pl.dotplot(adata, stem_cells_markers, groupby='Cell States')"
   ]
  },
  {
   "cell_type": "code",
   "execution_count": null,
   "metadata": {},
   "outputs": [],
   "source": [
    "stem_cells_markers = ['LGR5', 'BMI1', 'TACSTD2', 'SOX2', 'NANOG', 'LY6H', 'DCLK1', 'CD44', 'DCLK1', 'TERT', 'ALCAM', 'ASCL2', 'BMPR1A', 'EPHB2', 'ACAD10', \n",
    "                      'ACVR1C', 'ARSE', 'ASCL2', 'ATP10B', 'C16orf89', 'C6orf136', 'CDCA7', 'CFTR', 'CHMP4C', 'CHP2', 'CLDN15', 'CLDN18', 'CLDN2', 'CPA6', 'DAPK2', \n",
    "                      'EFNA3', 'EPHB2', 'EVPL', 'F2RL1', 'FOXD2-AS1', 'GATA6-AS1', 'GDF15', 'GJB1', 'GJB2', 'GOLT1A', 'GPX2', 'HNF1A', 'HSD17B2', 'ITPKC', \n",
    "                      'LEFTY1', 'LIPG', 'MGST1', 'MSI1', 'MYOM3', 'NOX1', 'OLFM4', 'PCSK9', 'PDZD3', 'PHLDA1', 'PKP2', 'PLAGL2', 'PLEKHH1', \n",
    "                      'PPP1R1B', 'PTGDR', 'PTK7', 'RGMB', 'RNF157', 'RNF186', 'SFN', 'SLC27A2', 'SLC38A4', 'SLPI', 'SULT1B1', 'TAF4B', 'TANC1', 'TMEM171', \n",
    "                      'URB1-AS1', 'ZBED9', 'ZNF296']\n",
    "\n",
    "sc.pl.dotplot(adata, stem_cells_markers, groupby='Cell States')"
   ]
  },
  {
   "cell_type": "code",
   "execution_count": 22,
   "metadata": {},
   "outputs": [
    {
     "name": "stdout",
     "output_type": "stream",
     "text": [
      "computing score 'Stem_cells_markers_score'\n",
      "    finished: added\n",
      "    'Stem_cells_markers_score', score of gene set (adata.obs).\n",
      "    796 total control genes are used. (0:00:03)\n"
     ]
    }
   ],
   "source": [
    "stem_cells_markers = ['LGR5', 'BMI1', 'GJA1', 'TACSTD2', 'SOX2', 'NANOG', 'LY6H', 'SPP1', 'DCLK1', 'CD44', 'DCLK1', 'TERT', 'ALCAM', 'ASCL2', 'BMPR1A', 'EPHB2', 'ACAD10', \n",
    "                      'ACVR1C', 'ARSE', 'ASCL2', 'ATP10B', 'C16orf89', 'C6orf136', 'CDCA7', 'CFTR', 'CHMP4C', 'CHP2', 'CLDN15', 'CLDN18', 'CLDN2', 'CPA6', 'DAPK2', 'DDC', \n",
    "                      'EFNA3', 'EPHB2', 'EVPL', 'F2RL1', 'FBLN2', 'FOXD2-AS1', 'GATA6-AS1', 'GDF15', 'GJB1', 'GJB2', 'GOLT1A', 'GPX2', 'HNF1A', 'HSD17B2', 'ITPKC', \n",
    "                      'LEFTY1', 'LIPG', 'MGST1', 'MSI1', 'MYOM3', 'NOX1', 'OLFM4', 'PCSK9', 'PDZD3', 'PHLDA1', 'PKP2', 'PLAGL2', 'PLEKHH1', \n",
    "                      'PPP1R1B', 'PTGDR', 'PTK7', 'RGMB', 'RNF157', 'RNF186', 'SFN', 'SLC27A2', 'SLC38A4', 'SLPI', 'SULT1B1', 'TAF4B', 'TANC1', 'TMEM171', 'TSPAN8', \n",
    "                      'URB1-AS1', 'ZBED9', 'ZNF296']\n",
    "\n",
    "# perform gene enrichment analysis on the stem cells markers\n",
    "sc.tl.score_genes(adata, stem_cells_markers, score_name = \"Stem_cells_markers_score\")"
   ]
  }
 ],
 "metadata": {
  "kernelspec": {
   "display_name": "Python (scvi_env)",
   "language": "python",
   "name": "scvi_env"
  },
  "language_info": {
   "codemirror_mode": {
    "name": "ipython",
    "version": 3
   },
   "file_extension": ".py",
   "mimetype": "text/x-python",
   "name": "python",
   "nbconvert_exporter": "python",
   "pygments_lexer": "ipython3",
   "version": "3.9.18"
  }
 },
 "nbformat": 4,
 "nbformat_minor": 2
}
